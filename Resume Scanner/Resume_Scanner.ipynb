{
  "nbformat": 4,
  "nbformat_minor": 0,
  "metadata": {
    "colab": {
      "name": "Resume Scanner.ipynb",
      "provenance": [],
      "collapsed_sections": []
    },
    "kernelspec": {
      "name": "python3",
      "display_name": "Python 3"
    }
  },
  "cells": [
    {
      "cell_type": "markdown",
      "metadata": {
        "id": "1QwtOe9WZ3sF"
      },
      "source": [
        "# ***Installing Library***"
      ]
    },
    {
      "cell_type": "code",
      "metadata": {
        "colab": {
          "base_uri": "https://localhost:8080/"
        },
        "id": "0FCqiRVSZ_YD",
        "outputId": "f8701c33-5966-4187-b343-2bca29d4c23a"
      },
      "source": [
        "!pip install docx2txt"
      ],
      "execution_count": 1,
      "outputs": [
        {
          "output_type": "stream",
          "text": [
            "Requirement already satisfied: docx2txt in /usr/local/lib/python3.6/dist-packages (0.8)\n"
          ],
          "name": "stdout"
        }
      ]
    },
    {
      "cell_type": "markdown",
      "metadata": {
        "id": "qVtfr4c5aXSX"
      },
      "source": [
        "# ***Importing Library***"
      ]
    },
    {
      "cell_type": "code",
      "metadata": {
        "id": "oS_lB6ACabBk"
      },
      "source": [
        "import docx2txt"
      ],
      "execution_count": 2,
      "outputs": []
    },
    {
      "cell_type": "markdown",
      "metadata": {
        "id": "TmMGmzcEacyL"
      },
      "source": [
        "# ***Loading Resume and Job Desription***"
      ]
    },
    {
      "cell_type": "markdown",
      "metadata": {
        "id": "v6bjOK6aalfZ"
      },
      "source": [
        "***Loading Resume***\r\n",
        "\r\n",
        "---\r\n",
        "\r\n"
      ]
    },
    {
      "cell_type": "code",
      "metadata": {
        "id": "J-AZKhjXaicK",
        "colab": {
          "resources": {
            "http://localhost:8080/nbextensions/google.colab/files.js": {
              "data": "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",
              "ok": true,
              "headers": [
                [
                  "content-type",
                  "application/javascript"
                ]
              ],
              "status": 200,
              "status_text": ""
            }
          },
          "base_uri": "https://localhost:8080/",
          "height": 72
        },
        "outputId": "f27abda6-0b70-4ffe-b5e4-f9d87c08a4d1"
      },
      "source": [
        "from google.colab import files\r\n",
        "uploaded = files.upload()"
      ],
      "execution_count": 3,
      "outputs": [
        {
          "output_type": "display_data",
          "data": {
            "text/html": [
              "\n",
              "     <input type=\"file\" id=\"files-4dc816a0-21b9-461b-8cb3-a597950fcc33\" name=\"files[]\" multiple disabled\n",
              "        style=\"border:none\" />\n",
              "     <output id=\"result-4dc816a0-21b9-461b-8cb3-a597950fcc33\">\n",
              "      Upload widget is only available when the cell has been executed in the\n",
              "      current browser session. Please rerun this cell to enable.\n",
              "      </output>\n",
              "      <script src=\"/nbextensions/google.colab/files.js\"></script> "
            ],
            "text/plain": [
              "<IPython.core.display.HTML object>"
            ]
          },
          "metadata": {
            "tags": []
          }
        },
        {
          "output_type": "stream",
          "text": [
            "Saving Nabeel Khan - Chief Solutions Architect.docx to Nabeel Khan - Chief Solutions Architect.docx\n"
          ],
          "name": "stdout"
        }
      ]
    },
    {
      "cell_type": "code",
      "metadata": {
        "id": "luEGcEH1awTH"
      },
      "source": [
        "resume = docx2txt.process(\"Nabeel Khan - Chief Solutions Architect.docx\")"
      ],
      "execution_count": 4,
      "outputs": []
    },
    {
      "cell_type": "code",
      "metadata": {
        "id": "UVzWKu0laxEX",
        "colab": {
          "base_uri": "https://localhost:8080/"
        },
        "outputId": "a38ae419-2534-4896-fe4b-90980150a83d"
      },
      "source": [
        "print(resume)"
      ],
      "execution_count": 5,
      "outputs": [
        {
          "output_type": "stream",
          "text": [
            "+1  (431) 373-3795\n",
            "\n",
            "me@nabeelkhan.com Winnipeg, Canada\n",
            "\n",
            "Nabeel Khan’s Resume\n",
            "\n",
            "Nabeel Khan\n",
            "\n",
            "+1 (431) 373-3795\n",
            "\n",
            "me@nabeelkhan.com\n",
            "\n",
            "\n",
            "\n",
            "Summary\n",
            "\n",
            "\n",
            "\n",
            "\tTechnology and business visionary with hands-on 18+ years of experience in automating multi-billion-dollar enterprises. Strong Political and business acumen in creating robust IT architectures and infrastructures. Proven ability to bring Artificial Intelligence benefits to solve business, decreasing costs, and minimizing risks. 12+ of building cloud-based infrastructure solutions.\n",
            "\n",
            "\tExtensive experience in process modeling, business systems analysis, application development, enterprise resource planning and transforming business requirements into analytical models, developing data mining, recovery, and business solutions that scale across the massive volume of structured and unstructured data utilizing various data sources.\n",
            "\n",
            "\tThe talent of proactively identifying and solving problems with a research mindset – automating systems to maximize productivity by discovering patterns, formulate and test hypotheses, developing metrics, translating results into strategies using different kinds of technical solutions.\n",
            "\n",
            "\tProven record of building solutions from ideas, delivering, piloting, and driving several business applications into production.\n",
            "\n",
            "\tWell versed with Agile Scrum framework, IT Service Management (ITSM) and Business Analysis Body of Knowledge; Corporate Communications within which people can address complex adaptive problems while productively and creatively delivering products of the highest possible value. Define the data governance, management, and ownership frameworks to ensure data quality is created and maintained.\n",
            "\n",
            "\n",
            "\n",
            "Skills\n",
            "\n",
            "\n",
            "\n",
            "\tBusiness Acumen & Leadership\n",
            "\n",
            "\tStrong analytical & problem solving\n",
            "\n",
            "\tIT Operations & Management skills\n",
            "\n",
            "\tMachine & Deep Learning Skills\n",
            "\n",
            "\tProgram Management & Development\n",
            "\n",
            "\tProject Management & Delivery\n",
            "\n",
            "\tPredictive & Prescriptive Analysis\n",
            "\n",
            "\tData & Quantitative Analysis\n",
            "\n",
            "\tCommunication and Collaboration skills\n",
            "\n",
            "\tSolution & Decision Analysis\n",
            "\n",
            "\tElectronic Commerce Strategy/Development\n",
            "\n",
            "\tBusiness Process Modeling & Improvement\n",
            "\n",
            "\n",
            "\n",
            "Experience\n",
            "\n",
            "Chief Solutions Architect\n",
            "\n",
            "\n",
            "\n",
            "Monsterhub, Inc\n",
            "\n",
            "2 Year\n",
            "\n",
            "\n",
            "\n",
            "Brisbane, Australia\n",
            "\n",
            "October 2018 to Current\n",
            "\n",
            "\tLeading an off-shore technical team of 12 multinational members spanning over three countries involved in designing, developing, optimizing, and supporting various Business and AI applications for clients powered by serverless and container architecture using AWS cloud services.\n",
            "\n",
            "\n",
            "\n",
            "\tAnalyzing the technology environment, identify enterprise specifics, documenting requirements, and setting the collaboration framework within the stakeholders.\n",
            "\n",
            "\n",
            "\n",
            "\tIdentify areas of poor performance in the product and ensure products are met with current industry standards. Participating in technology selection, make recommendations for improvement, identify the need for data recovery, governance, and growth. Lead the company\n",
            "\n",
            "\n",
            "\n",
            "\n",
            "\n",
            "\n",
            "\n",
            "in the creating solutions prototype, and execution of projects and managing the technical team for solution development, project management and propose new machine learning solutions to enhance business operations.\n",
            "\n",
            "\n",
            "\n",
            "\tPlanned and executed research and development of NLP-based AI solution utilizing NLTK while exploring other models to recognize the suicide threats from the chat conversation, real-time facial recognition expression, gender, emotion, distraction, and object detection for AI Proctoring system.\n",
            "\n",
            "\n",
            "\n",
            "\tEnsure adherence to a consistent, standardized service delivery model rooted in IT Service Management (ITSM) best practices and work with technical and development teams to deploy models. Build Model Performance Reports and Modeling Technical Documentation to support each of the models for the product line.\n",
            "\n",
            "\n",
            "\n",
            "\tLead strategic planning to achieve business goals by identifying and prioritizing development initiatives and setting timetables for the evaluation, development, and deployment of all SaaS and ML services. Documenting machine learning experience and share with stakeholders, explaining the cost & benefit analysis.\n",
            "\n",
            "\n",
            "\n",
            "Chief Solutions Architect\n",
            "\n",
            "Council of Ministers\n",
            "\n",
            "3 Years\n",
            "\n",
            "\n",
            "\n",
            "State of Kuwait\n",
            "\n",
            "December 2014 to April 2018\n",
            "\n",
            "\tApplied strategic business analysis and expertise in Information Systems services by working closely with the business units to gain an in-depth understanding of Statewide hiring of Citizens, processes, services, roadmap, and designed skill-based assessments system prototype, which increased hiring response by 96% resulting signed into law by late Amir of Kuwait.\n",
            "\n",
            "\n",
            "\n",
            "\tSpearheaded development of proto-type system for Civil Service Commission Kuwait, to centralized Statewide hiring of Citizens, and designed skill-based assessments system, which increased hiring response by 96% resulting signed into law by Amir of Kuwait in 2018.\n",
            "\n",
            "\n",
            "\n",
            "\tExecuted Activity Based Costing and Cost-Benefit Analysis for technology platforms (including web/Mobile application frameworks and the deployment stack) for delivering the services.\n",
            "\n",
            "\n",
            "\n",
            "\tIdentified technology trends and evolving social behaviors, supported by evidence-based analysis impeding customer satisfaction and business success. Led a team of professionals from different business units responsible for implementing an automated service delivery focused web services. Evaluated the re-engineered processes and successfully increased website visits by 150K monthly and HR production by 76%.\n",
            "\n",
            "\n",
            "\n",
            "\tDemonstrated experience with Advanced Analytical Environment and technologies within an organization of equivalent size and complexity to the Government.\n",
            "\n",
            "\n",
            "\n",
            "\tActively involved in the full Software Development Lifecycle (SDLC) forecasting model to be used in integrated hiring and planning. Conducted Marketing Mix Measurement, campaign analysis, program optimization, customer segmentation, ROI analysis, and predictive modeling.\n",
            "\n",
            "\n",
            "\n",
            "\tIdentified technology trends and evolving social behaviors, supported by evidence-based analysis impeding customer satisfaction and business success. Led a team of professionals\n",
            "\n",
            "\n",
            "\n",
            "\n",
            "\n",
            "\n",
            "\n",
            "from different business units responsible for implementing an automated service delivery focused web service, which successfully increased website visits by 100K monthly and HR production by 76%.\n",
            "\n",
            "\n",
            "\n",
            "Chief Solutions Architect\n",
            "\n",
            "Ministry of Planning\n",
            "\n",
            "3 Years\n",
            "\n",
            "\n",
            "\n",
            "State of Kuwait\n",
            "\n",
            "January 2011 to October 2014\n",
            "\n",
            "\tDirected development and deployment of Kuwait Register Based Census System (KRBCS), Data warehouse with Business Intelligence based on various terabytes of data sources through phased, iterative releases - each delivered on time and within budget applied principles of agile methodologies. KRBCS is primarily designed to produce statistical reports, Predictive modeling, forecasting and outlier detection required by the State of Kuwait, Central Statistical Office and UNDP.\n",
            "\n",
            "\n",
            "\n",
            "\tDefined scope and identified high-risk areas for integration between core statistical system and multiple existing systems; Defined functional and non-functional business requirements for Centralizing Data warehouse containing data from government registries, i.e., Civil Information, Tax Revenue, Interior, Justice, and Municipal.\n",
            "\n",
            "\n",
            "\n",
            "\tAnalyzed complex data flows and data elements for specific use cases using case diagrams and defined requirements traceability across the project lifecycle and used process modeling tools (BPMN) to describe processes and requirements.\n",
            "\n",
            "\n",
            "\n",
            "\tAnalyzed and implementing unsupervised machine learning algorithms to identify and extract Parent-child relationships to solve hidden polygamous marriages, to detect the hidden patterns of Unreported Income, using Centroid divisive hierarchical clustering and Gaussian mixture methods.\n",
            "\n",
            "\n",
            "\n",
            "\tDesigned & Developed architecture, methodology, and strategy for harvesting 900 central statistical office census rules, utilizing Clustering and classification algorithms, SQL procedures for capturing and documenting business rules, for data verification, improving data quality by 90% as compared to the manual system.\n",
            "\n",
            "\n",
            "\n",
            "Sr. Systems Architect &\n",
            "\n",
            "Tawasul Telecom\n",
            "\n",
            "2 Years\n",
            "\n",
            "Project Manager\n",
            "\n",
            "State of Kuwait\n",
            "\n",
            "September 2008 to December 2010\n",
            "\n",
            "\tTranslating product roadmaps and feature requests into models, workflow diagrams, user stories, acceptance criteria, and understanding design, business logic, and technical architecture of customer platform components and how they interact with the rest of the platform to deliver integrated solutions.\n",
            "\n",
            "\n",
            "\n",
            "\tDeveloped predictive causal model using annual failure rate and standard cost basis for the new bundled services. Working with product management, development, and other departments to actively remove obstacles blocking progress and ensure the program is within schedule\n",
            "\n",
            "\n",
            "\n",
            "\tDevelop change management and data quality processes to ensure that users of data can focus on insights. Led the design and development of visualization tools for business units by publishing KPIs/Metrics to measure the effectiveness and efficiency of managed solutions portfolio.\n",
            "\n",
            "\n",
            "\n",
            "\n",
            "\n",
            "\n",
            "\n",
            "\tSupporting product management, marketing, sales, professional services, training, and technical support throughout the release process with training, documentation, announcements, and other release activities\n",
            "\n",
            "\n",
            "\n",
            "\tDeveloped an Estimation model for various product & services bundled offering to optimize and predict the gross margin\n",
            "\n",
            "\n",
            "\n",
            "\tCreated work estimates, track progress, and report status in the form of burn up/down charts and prioritizing and grooming their teams’ backlog.\n",
            "\n",
            "\n",
            "\n",
            "\tBuild and trained 4 Project managers, implemented department level standards, developed Solution implementation handbooks, database recovery manual, and other technical documentation.\n",
            "\n",
            "\n",
            "\n",
            "Senior Systems Architect\n",
            "\n",
            "Zain Group\n",
            "\n",
            "1 Year\n",
            "\n",
            "\n",
            "\n",
            "Khartoum, Sudan\n",
            "\n",
            "October 2007 to August 2008\n",
            "\n",
            "\tDesigned and Implemented two nodes for billing and three nodes for history, eCare, and web portal Oracle Real Application Cluster. Using Data Guard, Oracle Streams and Oracle Flashback Technology to ensure 24 x 7 business continuity.\n",
            "\n",
            "\n",
            "\n",
            "\tImplementing a combination of MAA to achieve 2.5 minutes downtime for 12 Oracle databases using Oracle Real Application Clusters, Oracle Data Guard, Oracle Streams, Oracle Flashback Technology, and Automatic Storage Management (ASM).\n",
            "\n",
            "\n",
            "\n",
            "\tProject Manager for data migration from the old billing system (Mobex and Apex) on Informix to oracle (Telecommunication Administration and Billing System: TABS).\n",
            "\n",
            "\n",
            "\n",
            "\tCollaborated with data engineers and operation team to implement the ETL process, wrote and optimized SQL queries to perform data extraction to fit the analytical requirements.\n",
            "\n",
            "\n",
            "\n",
            "\tExplored and analyzed the customer-specific features by using Matplotlib and performed data imputation using Scikit-learn package in Python. Worked on data cleaning and ensured data quality, consistency, integrity using Pandas, NumPy.\n",
            "\n",
            "\n",
            "\n",
            "\tWorked with data compliance teams, Data governance team to maintain data models, Metadata, Data Dictionaries; define source fields and its definitions.\n",
            "\n",
            "\n",
            "\n",
            "\tDeployed tuning techniques to optimize database response time with over 40 million records updates per 5 minutes. Designed and implemented data load procedure for web portal and data warehouse, reducing 70% of data loading time.\n",
            "\n",
            "\n",
            "\n",
            "\tDecreased software-licensing cost by 50% ($1.2 Million) by designing architectural standards for the CSX database infrastructure and implementing only required database technologies for new business operations.\n",
            "\n",
            "\n",
            "\n",
            "IT Manager\n",
            "\n",
            "Z-Investment\n",
            "\n",
            "2 Years\n",
            "\n",
            "\n",
            "\n",
            "State of Kuwait\n",
            "\n",
            "October 2005 to September 2007\n",
            "\n",
            "\tPlanned, organized, and managed startup data processing operations, including implementing a dedicated channel for stock trading and an eCommerce platform for portfolio holders under the finance director's general direction.\n",
            "\n",
            "\n",
            "\n",
            "\n",
            "\n",
            "\n",
            "\n",
            "\tPlanned, scheduled, and supervised the implementation of Oracle Financials & Oracle Collaboration Suit for the company and the entire group to save an estimated $20K annually.\n",
            "\n",
            "\n",
            "\n",
            "\tProvide technical expertise to other departments concerning operational priorities, evaluate the company’s data processing needs, meet and coordinate activities with data processing vendors, determine equipment needs, and make assessments.\n",
            "\n",
            "\n",
            "\n",
            "\tResponsible for equipment procurement and installation, aiding other departments; evaluating and recommending appropriate programs, monitoring and assessing installed applications, and meeting with users to determine data processing needs.\n",
            "\n",
            "\n",
            "\n",
            "\tSeasonally identify and fix information system problems, determine new system requirements, modifications, or upgrades necessary to existing systems, create systems and supporting documentation, oversee and coordinate overall systems development and modification of applications software.\n",
            "\n",
            "\n",
            "\n",
            "\t\tEffectively hired and trained system administrator and a team of two junior developers.\n",
            "\n",
            "\n",
            "\n",
            "Senior Systems Analyst\n",
            "\n",
            "Kuwait Insurance Company\n",
            "\n",
            "4 Years\n",
            "\n",
            "\n",
            "\n",
            "State of Kuwait\n",
            "\n",
            "December 2001 to September 2005\n",
            "\n",
            "\tPerformed analysis on claims vs. insurance and overall trends using multiple data sources to lead team members to develop Premium calculation engine implemented in business applications.\n",
            "\n",
            "\n",
            "\n",
            "\t\tTranslated the business needs into detailed business requirement specifications.\n",
            "\n",
            "\n",
            "\n",
            "\tCreated high-level and detailed UML activity diagrams, use cases, and decision matrices for all requirements.\n",
            "\n",
            "\n",
            "\n",
            "\tActively participated in planning, resourcing, and execution of advanced analytics products and projects across a variety of business units namely, Insurance, Re-Writing, Shareholder and Dividend processing, Claims departments.\n",
            "\n",
            "\n",
            "\n",
            "\tCollaborated and Coordinated with multiple business units during the development cycle, conveyed complex technical issues to diverse and senior audiences.\n",
            "\n",
            "\n",
            "\n",
            "\tTranslated Business requirements into System specifications for effective communication with both technical and non-technical individuals.\n",
            "\n",
            "\n",
            "\n",
            "Database Administrator\n",
            "\n",
            "Kuwait Insurance Company\n",
            "\n",
            "2 Years\n",
            "\n",
            "\n",
            "\n",
            "State of Kuwait\n",
            "\n",
            "September 1999 to December 2001\n",
            "\n",
            "\tResponsible for designing, creating, installing, configuring, and maintaining Three (3) production Oracle databases used for business applications deployed on Digital Alpha Servers HP- TRU64 UNIX, Windows 2000 and Red Hat Linux servers.\n",
            "\n",
            "\n",
            "\n",
            "\tDesigned and configured a 2-Node and a 4-Node Oracle 9i RAC (Real Application Cluster) using data guard to replicate to 2 standby databases as a high-availability solution for the medical claim system used online. Setup and administer 9i Physical Standby databases as part of the disaster recovery strategy; this meets the 15-minute maximum downtime requirement by the CEO.\n",
            "\n",
            "\n",
            "\n",
            "\n",
            "\n",
            "\n",
            "\n",
            "\tThe technical architect for the data warehouse with an input of over 250 approx. Files every month from various sources. Developed an automated process that would validate, cleanse and report aggregated erroneous data, alert business users, and substantially ease support effort — interacted with developers to ensure proper loading of data.\n",
            "\n",
            "\n",
            "\n",
            "\tTuned SQL statements, programmed security policies through roles and database triggers, managed all Oracle Objects (Tables, Indexes, Views, Procedures, Triggers, Functions), analyzed tables, reorganized indexes, rebuilding indexes and constraints as needed.\n",
            "\n",
            "\n",
            "\n",
            "\tApplied Archive files for Time Based Recovery, using Import, Export, Cold backups to replicate and reproduce database to point in time.\n",
            "\n",
            "\n",
            "\n",
            "Education\n",
            "\n",
            "\n",
            "\n",
            "\t\tBachelor of Computer Science (BCS), 1999\n",
            "\n",
            "\tMaster of Computer Science (MCS), 2010 - Thesis Title: Automated Data Mapping in Register Based Census Arabic\n",
            "\n",
            "\n",
            "\n",
            "Certifications and Professional Training\n",
            "\n",
            "\t\tLeading Strategic Innovation (Vanderbilt University)\n",
            "\n",
            "\t\tArtificial Intelligence for Business\n",
            "\n",
            "\t\tGamification (UPENN)\n",
            "\n",
            "\t\tSolution Selling by Solution Science\n",
            "\n",
            "\t\tReal Applications Clusters\n",
            "\n",
            "\t\tData Modeling Concepts\n",
            "\n",
            "\t\tRDBMS & Data Warehousing Concepts\n",
            "\n",
            "\tA Beginner's Guide to Irrational Behavior (Duke University)\n",
            "\n",
            "\tData Analysis (Johns Hopkins University)\n",
            "\n",
            "\tMachine Learning: Real-World Applications\n",
            "\n",
            "\tCertified Oracle Professional 8/9i/10g\n",
            "\n",
            "\tImplementing Netscreen Security Gateways\n",
            "\n",
            "\tSoftware Business Analysis\n",
            "\n",
            "\tEthical Hacking\n",
            "\n",
            "\n",
            "\n",
            "Page 1 of 6\n",
            "\n",
            "\n",
            "\n",
            "Page 2 of 6\n"
          ],
          "name": "stdout"
        }
      ]
    },
    {
      "cell_type": "markdown",
      "metadata": {
        "id": "QhOIACgdaqKG"
      },
      "source": [
        "***Loading Job Description***"
      ]
    },
    {
      "cell_type": "code",
      "metadata": {
        "id": "xZroYsvga4bH",
        "colab": {
          "resources": {
            "http://localhost:8080/nbextensions/google.colab/files.js": {
              "data": "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",
              "ok": true,
              "headers": [
                [
                  "content-type",
                  "application/javascript"
                ]
              ],
              "status": 200,
              "status_text": ""
            }
          },
          "base_uri": "https://localhost:8080/",
          "height": 72
        },
        "outputId": "4f39cf39-5ea0-443c-f7c8-77cc9629dad8"
      },
      "source": [
        "from google.colab import files\r\n",
        "uploaded = files.upload()"
      ],
      "execution_count": 6,
      "outputs": [
        {
          "output_type": "display_data",
          "data": {
            "text/html": [
              "\n",
              "     <input type=\"file\" id=\"files-8f5212a3-72dd-4138-b513-2a21947af428\" name=\"files[]\" multiple disabled\n",
              "        style=\"border:none\" />\n",
              "     <output id=\"result-8f5212a3-72dd-4138-b513-2a21947af428\">\n",
              "      Upload widget is only available when the cell has been executed in the\n",
              "      current browser session. Please rerun this cell to enable.\n",
              "      </output>\n",
              "      <script src=\"/nbextensions/google.colab/files.js\"></script> "
            ],
            "text/plain": [
              "<IPython.core.display.HTML object>"
            ]
          },
          "metadata": {
            "tags": []
          }
        },
        {
          "output_type": "stream",
          "text": [
            "Saving job_description.docx to job_description.docx\n"
          ],
          "name": "stdout"
        }
      ]
    },
    {
      "cell_type": "code",
      "metadata": {
        "id": "lf_EP0ykazeH"
      },
      "source": [
        "job_description = docx2txt.process(\"job_description.docx\")"
      ],
      "execution_count": 7,
      "outputs": []
    },
    {
      "cell_type": "code",
      "metadata": {
        "id": "NzgZ6M-FaziF",
        "colab": {
          "base_uri": "https://localhost:8080/"
        },
        "outputId": "b6c7b6bf-dd8c-4272-fee6-62df3a1ff59d"
      },
      "source": [
        "print(job_description)"
      ],
      "execution_count": 8,
      "outputs": [
        {
          "output_type": "stream",
          "text": [
            "Minimum qualifications:\n",
            "\n",
            "Bachelor’s degree or equivalent practical experience.\n",
            "\n",
            "3 years of software development experience, or 1 year with an advanced degree.\n",
            "\n",
            "Experience in Java, C/C++, C#, Objective C, Python, JavaScript, or Go.\n",
            "\n",
            "Experience in web/mobile application development, Unix/Linux environments, distributed/parallel systems, information retrieval, networking, or systems/security software development.\n",
            "\n",
            "Preferred qualifications:\n",
            "\n",
            "Master’s, PhD degree, further education or experience in engineering, computer science or other technical related field.\n",
            "\n",
            "Experience developing accessible technologies.\n",
            "\n",
            "Interest and ability to learn other coding languages as needed.\n",
            "\n",
            "Ability to write in English fluently and idiomatically.\n",
            "\n",
            "Ability to learn other coding languages as needed.\n",
            "\n",
            "About the job\n",
            "\n",
            "Google's software engineers develop the next-generation technologies that change how billions of users connect, explore, and interact with information and one another. Our products need to handle information at massive scale, and extend well beyond web search. We're looking for engineers who bring fresh ideas from all areas, including information retrieval, distributed computing, large-scale system design, networking and data storage, security, artificial intelligence, natural language processing, UI design and mobile; the list goes on and is growing every day. As a software engineer, you will work on a specific project critical to Google’s needs with opportunities to switch teams and projects as you and our fast-paced business grow and evolve. We need our engineers to be versatile, display leadership qualities and be enthusiastic to take on new problems across the full-stack as we continue to push technology forward.\n",
            "\n",
            "Google aspires to be an organization that reflects the globally diverse audience that our products and technology serve. We believe that in addition to hiring the best talent, a diversity of perspectives, ideas and cultures leads to the creation of better products and services.\n",
            "\n",
            "Google is and always will be an engineering company. We hire people with a broad set of technical skills who are ready to take on some of technology's greatest challenges and make an impact on millions, if not billions, of users. At Google, engineers not only revolutionize search, they routinely work on massive scalability and storage solutions, large-scale applications and entirely new platforms for developers around the world. From Google Ads to Chrome, Android to YouTube, Social to Local, Google engineers are changing the world one technological achievement after another.\n",
            "\n",
            "Responsibilities\n",
            "\n",
            "Design, develop, test, deploy, maintain and improve software.\n",
            "\n",
            "Manage individual project priorities, deadlines and deliverables.\n"
          ],
          "name": "stdout"
        }
      ]
    },
    {
      "cell_type": "markdown",
      "metadata": {
        "id": "4dKk0Eqta_Lq"
      },
      "source": [
        "# ***Creating a list of Text***"
      ]
    },
    {
      "cell_type": "code",
      "metadata": {
        "id": "7xNWdFWbazys"
      },
      "source": [
        "text = [resume, job_description]"
      ],
      "execution_count": 9,
      "outputs": []
    },
    {
      "cell_type": "markdown",
      "metadata": {
        "id": "-wrEpPDzbT7Q"
      },
      "source": [
        "# ***Creating a Count Vectorizer object***"
      ]
    },
    {
      "cell_type": "code",
      "metadata": {
        "id": "Qd4FuT9IbfRJ"
      },
      "source": [
        "from sklearn.feature_extraction.text import CountVectorizer\r\n",
        "cv = CountVectorizer()"
      ],
      "execution_count": 10,
      "outputs": []
    },
    {
      "cell_type": "markdown",
      "metadata": {
        "id": "S_KjhRo8cAyY"
      },
      "source": [
        "# ***Converting the text documents to a matrix of token counts***"
      ]
    },
    {
      "cell_type": "code",
      "metadata": {
        "id": "i-lJcc4BcH4y"
      },
      "source": [
        "count_matrix = cv.fit_transform(text)"
      ],
      "execution_count": 11,
      "outputs": []
    },
    {
      "cell_type": "markdown",
      "metadata": {
        "id": "IFN3ikutcNUT"
      },
      "source": [
        "# ***Cosine Similarity Scores***"
      ]
    },
    {
      "cell_type": "code",
      "metadata": {
        "id": "mekwU9oScQOJ",
        "colab": {
          "base_uri": "https://localhost:8080/"
        },
        "outputId": "be49dadc-9778-48f1-8be1-a53977779f73"
      },
      "source": [
        "from sklearn.metrics.pairwise import cosine_similarity\r\n",
        "\r\n",
        "#Print the similarity scores\r\n",
        "print(\"\\nSimilarity Scores:\")\r\n",
        "print(cosine_similarity(count_matrix))"
      ],
      "execution_count": 12,
      "outputs": [
        {
          "output_type": "stream",
          "text": [
            "\n",
            "Similarity Scores:\n",
            "[[1.         0.69688305]\n",
            " [0.69688305 1.        ]]\n"
          ],
          "name": "stdout"
        }
      ]
    },
    {
      "cell_type": "markdown",
      "metadata": {
        "id": "QWg3E1FIcVq1"
      },
      "source": [
        "# ***Getting the percentage match***"
      ]
    },
    {
      "cell_type": "code",
      "metadata": {
        "id": "6P3d0JhvcZhx",
        "colab": {
          "base_uri": "https://localhost:8080/"
        },
        "outputId": "75a2f666-ebb2-4b6f-e1ba-076a8a28aa1a"
      },
      "source": [
        "matchPercentage = cosine_similarity(count_matrix)[0][1] * 100\r\n",
        "matchPercentage = round(matchPercentage, 2) # round to two decimal\r\n",
        "print(\"Your resume matches about \"+ str(matchPercentage)+ \"% of the job description.\")"
      ],
      "execution_count": 13,
      "outputs": [
        {
          "output_type": "stream",
          "text": [
            "Your resume matches about 69.69% of the job description.\n"
          ],
          "name": "stdout"
        }
      ]
    }
  ]
}